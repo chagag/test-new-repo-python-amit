{
 "cells": [
  {
   "cell_type": "markdown",
   "metadata": {},
   "source": [
    "# Reproduce an existing environment\n",
    "\n",
    "This file walks you through the process of reproducing an existing environment (if you are using the repo to extend or reproduce existing code). There should be an `environment.yml` file in this folder. The `environment.yml` folder contains the information needed to reproduce the environment."
   ]
  },
  {
   "cell_type": "code",
   "execution_count": 1,
   "metadata": {},
   "outputs": [
    {
     "name": "stdout",
     "output_type": "stream",
     "text": [
      "env file: C:\\Users\\zhuang\\Documents\\GitHub\\python-project-template\\environment.yml\n"
     ]
    }
   ],
   "source": [
    "import os\n",
    "import subprocess\n",
    "import sys\n",
    "\n",
    "def create_conda_environment(environment_file):\n",
    "    # Create the Conda environment using the provided environment.yml file\n",
    "    subprocess.run(['conda', 'env', 'create', '-f', environment_file])\n",
    "\n",
    "# Get the current working directory\n",
    "current_folder = os.getcwd()\n",
    "\n",
    "# Specify the path to the environment.yml file\n",
    "\n",
    "file_name ='environment.yml'\n",
    "\n",
    "environment_file =  os.path.join(current_folder, file_name)\n",
    "\n",
    "# Print the current folder path\n",
    "print(\"env file:\", environment_file)\n",
    "\n",
    "# Create the Conda environment\n",
    "create_conda_environment(environment_file)\n"
   ]
  },
  {
   "cell_type": "code",
   "execution_count": null,
   "metadata": {},
   "outputs": [],
   "source": [
    "#### Activate recreated environment\n",
    "\n",
    "1. Open a new anaconda prompt\n",
    "2. Run the following code: `activate [environment-name]`. You will succeed when the environment name appears to the left of the anaconda prompt, so instead of `(base)` it becomes `(environment-name)`\n",
    "3. Close out of this jupyter notebook.\n",
    "4. In the new anaconda prompt in which the environment is activated, reopen Jupyter notebook. "
   ]
  }
 ],
 "metadata": {
  "kernelspec": {
   "display_name": "Python 3",
   "language": "python",
   "name": "python3"
  },
  "language_info": {
   "codemirror_mode": {
    "name": "ipython",
    "version": 3
   },
   "file_extension": ".py",
   "mimetype": "text/x-python",
   "name": "python",
   "nbconvert_exporter": "python",
   "pygments_lexer": "ipython3",
   "version": "3.7.4"
  }
 },
 "nbformat": 4,
 "nbformat_minor": 2
}
