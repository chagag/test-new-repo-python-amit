{
 "cells": [
  {
   "cell_type": "markdown",
   "metadata": {},
   "source": [
    "# Exporting environment\n",
    "\n",
    "Once you finish all of your work, run the code below to export all of the packages on your current environment to the `environment.yml` file. This ensures that any packages are all there, including ones you may have incidentally downloaded while working."
   ]
  },
  {
   "cell_type": "code",
   "execution_count": null,
   "metadata": {},
   "outputs": [],
   "source": [
    "import os\n",
    "import subprocess\n",
    "import sys\n",
    "\n",
    "# Get the current working directory\n",
    "current_folder = os.getcwd()\n",
    "\n",
    "# sets the environment name to your current virtual environment\n",
    "environment_name = os.environ['CONDA_DEFAULT_ENV']\n",
    "\n",
    "# Specify the path to the environment.yml file\n",
    "\n",
    "file_name ='environment.yml'\n",
    "environment_file =  os.path.join(current_folder, file_name)\n",
    "\n",
    "def export_environment(environment_name, environment_file):\n",
    "    # Export the Conda environment to environment.yml file in the local folder\n",
    "    subprocess.run(['conda', 'env', 'export', '-n', environment_name, '--file', environment_file])\n",
    "    # Print the path to the environment.yml file\n",
    "    print(\"Environment file saved at:\", environment_file)\n",
    "\n",
    "export_environment(environment_name, environment_file)    "
   ]
  }
 ],
 "metadata": {
  "kernelspec": {
   "display_name": "Python 3",
   "language": "python",
   "name": "python3"
  },
  "language_info": {
   "codemirror_mode": {
    "name": "ipython",
    "version": 3
   },
   "file_extension": ".py",
   "mimetype": "text/x-python",
   "name": "python",
   "nbconvert_exporter": "python",
   "pygments_lexer": "ipython3",
   "version": "3.7.4"
  }
 },
 "nbformat": 4,
 "nbformat_minor": 2
}
